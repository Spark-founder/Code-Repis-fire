{
  "nbformat": 4,
  "nbformat_minor": 0,
  "metadata": {
    "colab": {
      "name": "DeepLearningHyperParameterOptimization.ipynb",
      "provenance": [],
      "mount_file_id": "1AnbiHQjQkyiYcIVNgcKDHLhGvIf_OcEC",
      "authorship_tag": "ABX9TyOVDHvBvvBhc5KuhVxy1MR5",
      "include_colab_link": true
    },
    "kernelspec": {
      "name": "python3",
      "display_name": "Python 3"
    },
    "accelerator": "GPU"
  },
  "cells": [
    {
      "cell_type": "markdown",
      "metadata": {
        "id": "view-in-github",
        "colab_type": "text"
      },
      "source": [
        "<a href=\"https://colab.research.google.com/github/Spark-founder/Code-Repis-fire/blob/main/DeepLearningHyperParameterOptimization.ipynb\" target=\"_parent\"><img src=\"https://colab.research.google.com/assets/colab-badge.svg\" alt=\"Open In Colab\"/></a>"
      ]
    },
    {
      "cell_type": "code",
      "metadata": {
        "id": "4NsPmFh4CARH",
        "colab": {
          "base_uri": "https://localhost:8080/",
          "height": 35
        },
        "outputId": "eeb15e5c-bae5-4f57-f22c-9ee2fd8fa73d"
      },
      "source": [
        "import tensorflow as tf\r\n",
        "tf.test.gpu_device_name()"
      ],
      "execution_count": 1,
      "outputs": [
        {
          "output_type": "execute_result",
          "data": {
            "application/vnd.google.colaboratory.intrinsic+json": {
              "type": "string"
            },
            "text/plain": [
              "'/device:GPU:0'"
            ]
          },
          "metadata": {
            "tags": []
          },
          "execution_count": 1
        }
      ]
    },
    {
      "cell_type": "code",
      "metadata": {
        "colab": {
          "base_uri": "https://localhost:8080/"
        },
        "id": "KR_Y4fcyVSRX",
        "outputId": "4c08a1fb-db6d-49dc-adac-30f01ba48040"
      },
      "source": [
        "from google.colab import drive\r\n",
        "drive.mount('/content/drive', force_remount=True)"
      ],
      "execution_count": 3,
      "outputs": [
        {
          "output_type": "stream",
          "text": [
            "Mounted at /content/drive\n"
          ],
          "name": "stdout"
        }
      ]
    },
    {
      "cell_type": "code",
      "metadata": {
        "id": "u6fleDw9Vzo6"
      },
      "source": [
        "!pip install -q keras"
      ],
      "execution_count": 4,
      "outputs": []
    },
    {
      "cell_type": "code",
      "metadata": {
        "colab": {
          "base_uri": "https://localhost:8080/"
        },
        "id": "qG9t52irWSST",
        "outputId": "95a8c734-0932-46a2-cd13-7c13527d467a"
      },
      "source": [
        "import numpy as np\r\n",
        "import matplotlib.pyplot as plt\r\n",
        "import pandas as pd\r\n",
        "\r\n",
        "datasets = pd.read_csv('/content/drive/MyDrive/ANN/Churn_Modelling.csv')\r\n",
        "x = datasets.iloc[: , 3:13]\r\n",
        "y = datasets.iloc[: , 13]\r\n",
        "geography = pd.get_dummies(x['Geography'], drop_first = True)\r\n",
        "gender = pd.get_dummies(x['Gender'], drop_first = True)\r\n",
        "\r\n",
        "x = pd.concat([x,geography, gender], axis = 1)\r\n",
        "x = x.drop(['Geography', 'Gender'], axis=1)\r\n",
        "\r\n",
        "from sklearn.model_selection import train_test_split\r\n",
        "X_train, X_test, y_train, y_test = train_test_split(x,y, test_size=0.2, random_state=42)\r\n",
        "\r\n",
        "from sklearn.preprocessing import StandardScaler\r\n",
        "sc = StandardScaler()\r\n",
        "X_train = sc.fit_transform(X_train)\r\n",
        "X_test = sc.fit_transform(X_test)\r\n",
        "\r\n",
        "import keras\r\n",
        "from keras.models import Sequential\r\n",
        "from keras.layers import Dense, Dropout\r\n",
        "# from keras.layers import LeakyReLU,ELU, PReLU\r\n",
        "\r\n",
        "classifier = Sequential()\r\n",
        "classifier.add(Dense(units = 6, kernel_initializer = 'he_uniform', activation='relu', input_dim= 11))\r\n",
        "\r\n",
        "# classifier.add(Dropout(0.3)) Very Good For Deep Layer Neural Network it prevents from overfitting\r\n",
        "classifier.add(Dense(units = 6, kernel_initializer='he_uniform', activation='relu'))\r\n",
        "# classifier.add(Dropout(0.4))\r\n",
        "classifier.add(Dense(units=1, kernel_initializer='glorot_uniform', activation='sigmoid'))\r\n",
        "# classifier.add(Dropout(0.2))\r\n",
        "classifier.compile(optimizer = 'adam', loss = 'binary_crossentropy', metrics = ['accuracy'])\r\n",
        "model_history = classifier.fit(X_train, y_train, validation_split=0.33, batch_size=10, epochs=100)\r\n",
        "\r\n",
        "y_pred = classifier.predict(X_test)\r\n",
        "y_pred = (y_pred > 0.5)\r\n",
        "\r\n",
        "# Making the Confusion Matrix\r\n",
        "from sklearn.metrics import confusion_matrix\r\n",
        "cm = confusion_matrix(y_test, y_pred)\r\n",
        "\r\n",
        "# Calculate the Accuracy\r\n",
        "from sklearn.metrics import accuracy_score\r\n",
        "score=accuracy_score(y_pred,y_test)\r\n",
        "print(cm)\r\n",
        "print(score)"
      ],
      "execution_count": 6,
      "outputs": [
        {
          "output_type": "stream",
          "text": [
            "Epoch 1/100\n",
            "536/536 [==============================] - 4s 4ms/step - loss: 0.5821 - accuracy: 0.8044 - val_loss: 0.5021 - val_accuracy: 0.7910\n",
            "Epoch 2/100\n",
            "536/536 [==============================] - 2s 3ms/step - loss: 0.4910 - accuracy: 0.7896 - val_loss: 0.4689 - val_accuracy: 0.7933\n",
            "Epoch 3/100\n",
            "536/536 [==============================] - 2s 3ms/step - loss: 0.4628 - accuracy: 0.8002 - val_loss: 0.4563 - val_accuracy: 0.8046\n",
            "Epoch 4/100\n",
            "536/536 [==============================] - 2s 3ms/step - loss: 0.4462 - accuracy: 0.8008 - val_loss: 0.4481 - val_accuracy: 0.8099\n",
            "Epoch 5/100\n",
            "536/536 [==============================] - 2s 3ms/step - loss: 0.4312 - accuracy: 0.8155 - val_loss: 0.4419 - val_accuracy: 0.8133\n",
            "Epoch 6/100\n",
            "536/536 [==============================] - 2s 3ms/step - loss: 0.4100 - accuracy: 0.8230 - val_loss: 0.4362 - val_accuracy: 0.8122\n",
            "Epoch 7/100\n",
            "536/536 [==============================] - 2s 3ms/step - loss: 0.4130 - accuracy: 0.8189 - val_loss: 0.4312 - val_accuracy: 0.8152\n",
            "Epoch 8/100\n",
            "536/536 [==============================] - 2s 3ms/step - loss: 0.4113 - accuracy: 0.8173 - val_loss: 0.4267 - val_accuracy: 0.8198\n",
            "Epoch 9/100\n",
            "536/536 [==============================] - 2s 3ms/step - loss: 0.4087 - accuracy: 0.8262 - val_loss: 0.4228 - val_accuracy: 0.8190\n",
            "Epoch 10/100\n",
            "536/536 [==============================] - 2s 3ms/step - loss: 0.3982 - accuracy: 0.8294 - val_loss: 0.4183 - val_accuracy: 0.8232\n",
            "Epoch 11/100\n",
            "536/536 [==============================] - 2s 3ms/step - loss: 0.3973 - accuracy: 0.8338 - val_loss: 0.4127 - val_accuracy: 0.8258\n",
            "Epoch 12/100\n",
            "536/536 [==============================] - 2s 3ms/step - loss: 0.3891 - accuracy: 0.8334 - val_loss: 0.4087 - val_accuracy: 0.8292\n",
            "Epoch 13/100\n",
            "536/536 [==============================] - 2s 3ms/step - loss: 0.3748 - accuracy: 0.8419 - val_loss: 0.4035 - val_accuracy: 0.8304\n",
            "Epoch 14/100\n",
            "536/536 [==============================] - 2s 3ms/step - loss: 0.3790 - accuracy: 0.8448 - val_loss: 0.3981 - val_accuracy: 0.8326\n",
            "Epoch 15/100\n",
            "536/536 [==============================] - 2s 3ms/step - loss: 0.3789 - accuracy: 0.8416 - val_loss: 0.3943 - val_accuracy: 0.8364\n",
            "Epoch 16/100\n",
            "536/536 [==============================] - 2s 3ms/step - loss: 0.3771 - accuracy: 0.8386 - val_loss: 0.3900 - val_accuracy: 0.8360\n",
            "Epoch 17/100\n",
            "536/536 [==============================] - 2s 3ms/step - loss: 0.3606 - accuracy: 0.8495 - val_loss: 0.3871 - val_accuracy: 0.8360\n",
            "Epoch 18/100\n",
            "536/536 [==============================] - 2s 3ms/step - loss: 0.3651 - accuracy: 0.8403 - val_loss: 0.3821 - val_accuracy: 0.8410\n",
            "Epoch 19/100\n",
            "536/536 [==============================] - 2s 3ms/step - loss: 0.3553 - accuracy: 0.8519 - val_loss: 0.3795 - val_accuracy: 0.8383\n",
            "Epoch 20/100\n",
            "536/536 [==============================] - 2s 3ms/step - loss: 0.3456 - accuracy: 0.8571 - val_loss: 0.3771 - val_accuracy: 0.8425\n",
            "Epoch 21/100\n",
            "536/536 [==============================] - 2s 3ms/step - loss: 0.3558 - accuracy: 0.8566 - val_loss: 0.3760 - val_accuracy: 0.8444\n",
            "Epoch 22/100\n",
            "536/536 [==============================] - 2s 3ms/step - loss: 0.3476 - accuracy: 0.8500 - val_loss: 0.3748 - val_accuracy: 0.8376\n",
            "Epoch 23/100\n",
            "536/536 [==============================] - 2s 3ms/step - loss: 0.3395 - accuracy: 0.8514 - val_loss: 0.3725 - val_accuracy: 0.8421\n",
            "Epoch 24/100\n",
            "536/536 [==============================] - 2s 3ms/step - loss: 0.3457 - accuracy: 0.8536 - val_loss: 0.3710 - val_accuracy: 0.8417\n",
            "Epoch 25/100\n",
            "536/536 [==============================] - 2s 3ms/step - loss: 0.3371 - accuracy: 0.8615 - val_loss: 0.3704 - val_accuracy: 0.8459\n",
            "Epoch 26/100\n",
            "536/536 [==============================] - 2s 3ms/step - loss: 0.3479 - accuracy: 0.8535 - val_loss: 0.3674 - val_accuracy: 0.8466\n",
            "Epoch 27/100\n",
            "536/536 [==============================] - 2s 3ms/step - loss: 0.3407 - accuracy: 0.8561 - val_loss: 0.3659 - val_accuracy: 0.8470\n",
            "Epoch 28/100\n",
            "536/536 [==============================] - 2s 3ms/step - loss: 0.3249 - accuracy: 0.8727 - val_loss: 0.3657 - val_accuracy: 0.8504\n",
            "Epoch 29/100\n",
            "536/536 [==============================] - 2s 3ms/step - loss: 0.3420 - accuracy: 0.8607 - val_loss: 0.3655 - val_accuracy: 0.8463\n",
            "Epoch 30/100\n",
            "536/536 [==============================] - 2s 3ms/step - loss: 0.3264 - accuracy: 0.8671 - val_loss: 0.3670 - val_accuracy: 0.8463\n",
            "Epoch 31/100\n",
            "536/536 [==============================] - 2s 3ms/step - loss: 0.3356 - accuracy: 0.8660 - val_loss: 0.3632 - val_accuracy: 0.8504\n",
            "Epoch 32/100\n",
            "536/536 [==============================] - 2s 3ms/step - loss: 0.3375 - accuracy: 0.8601 - val_loss: 0.3627 - val_accuracy: 0.8482\n",
            "Epoch 33/100\n",
            "536/536 [==============================] - 2s 3ms/step - loss: 0.3230 - accuracy: 0.8670 - val_loss: 0.3616 - val_accuracy: 0.8485\n",
            "Epoch 34/100\n",
            "536/536 [==============================] - 2s 3ms/step - loss: 0.3157 - accuracy: 0.8752 - val_loss: 0.3610 - val_accuracy: 0.8497\n",
            "Epoch 35/100\n",
            "536/536 [==============================] - 2s 3ms/step - loss: 0.3247 - accuracy: 0.8660 - val_loss: 0.3606 - val_accuracy: 0.8489\n",
            "Epoch 36/100\n",
            "536/536 [==============================] - 2s 3ms/step - loss: 0.3179 - accuracy: 0.8705 - val_loss: 0.3603 - val_accuracy: 0.8497\n",
            "Epoch 37/100\n",
            "536/536 [==============================] - 2s 3ms/step - loss: 0.3303 - accuracy: 0.8657 - val_loss: 0.3591 - val_accuracy: 0.8493\n",
            "Epoch 38/100\n",
            "536/536 [==============================] - 2s 3ms/step - loss: 0.3251 - accuracy: 0.8656 - val_loss: 0.3598 - val_accuracy: 0.8512\n",
            "Epoch 39/100\n",
            "536/536 [==============================] - 2s 3ms/step - loss: 0.3309 - accuracy: 0.8647 - val_loss: 0.3613 - val_accuracy: 0.8493\n",
            "Epoch 40/100\n",
            "536/536 [==============================] - 2s 3ms/step - loss: 0.3266 - accuracy: 0.8635 - val_loss: 0.3599 - val_accuracy: 0.8482\n",
            "Epoch 41/100\n",
            "536/536 [==============================] - 2s 3ms/step - loss: 0.3359 - accuracy: 0.8628 - val_loss: 0.3589 - val_accuracy: 0.8482\n",
            "Epoch 42/100\n",
            "536/536 [==============================] - 2s 3ms/step - loss: 0.3235 - accuracy: 0.8619 - val_loss: 0.3581 - val_accuracy: 0.8474\n",
            "Epoch 43/100\n",
            "536/536 [==============================] - 2s 3ms/step - loss: 0.3271 - accuracy: 0.8653 - val_loss: 0.3608 - val_accuracy: 0.8508\n",
            "Epoch 44/100\n",
            "536/536 [==============================] - 2s 3ms/step - loss: 0.3154 - accuracy: 0.8699 - val_loss: 0.3583 - val_accuracy: 0.8501\n",
            "Epoch 45/100\n",
            "536/536 [==============================] - 2s 3ms/step - loss: 0.3272 - accuracy: 0.8651 - val_loss: 0.3568 - val_accuracy: 0.8489\n",
            "Epoch 46/100\n",
            "536/536 [==============================] - 2s 3ms/step - loss: 0.3166 - accuracy: 0.8690 - val_loss: 0.3568 - val_accuracy: 0.8516\n",
            "Epoch 47/100\n",
            "536/536 [==============================] - 2s 3ms/step - loss: 0.3332 - accuracy: 0.8612 - val_loss: 0.3558 - val_accuracy: 0.8519\n",
            "Epoch 48/100\n",
            "536/536 [==============================] - 2s 3ms/step - loss: 0.3206 - accuracy: 0.8733 - val_loss: 0.3558 - val_accuracy: 0.8519\n",
            "Epoch 49/100\n",
            "536/536 [==============================] - 2s 3ms/step - loss: 0.3331 - accuracy: 0.8600 - val_loss: 0.3572 - val_accuracy: 0.8493\n",
            "Epoch 50/100\n",
            "536/536 [==============================] - 2s 3ms/step - loss: 0.3152 - accuracy: 0.8654 - val_loss: 0.3556 - val_accuracy: 0.8535\n",
            "Epoch 51/100\n",
            "536/536 [==============================] - 2s 3ms/step - loss: 0.3207 - accuracy: 0.8701 - val_loss: 0.3561 - val_accuracy: 0.8508\n",
            "Epoch 52/100\n",
            "536/536 [==============================] - 2s 3ms/step - loss: 0.3227 - accuracy: 0.8610 - val_loss: 0.3552 - val_accuracy: 0.8508\n",
            "Epoch 53/100\n",
            "536/536 [==============================] - 2s 3ms/step - loss: 0.3053 - accuracy: 0.8779 - val_loss: 0.3548 - val_accuracy: 0.8504\n",
            "Epoch 54/100\n",
            "536/536 [==============================] - 2s 3ms/step - loss: 0.3159 - accuracy: 0.8719 - val_loss: 0.3554 - val_accuracy: 0.8489\n",
            "Epoch 55/100\n",
            "536/536 [==============================] - 2s 3ms/step - loss: 0.3303 - accuracy: 0.8665 - val_loss: 0.3543 - val_accuracy: 0.8527\n",
            "Epoch 56/100\n",
            "536/536 [==============================] - 2s 3ms/step - loss: 0.3109 - accuracy: 0.8792 - val_loss: 0.3535 - val_accuracy: 0.8546\n",
            "Epoch 57/100\n",
            "536/536 [==============================] - 2s 3ms/step - loss: 0.3283 - accuracy: 0.8631 - val_loss: 0.3558 - val_accuracy: 0.8523\n",
            "Epoch 58/100\n",
            "536/536 [==============================] - 2s 3ms/step - loss: 0.3140 - accuracy: 0.8697 - val_loss: 0.3556 - val_accuracy: 0.8523\n",
            "Epoch 59/100\n",
            "536/536 [==============================] - 2s 3ms/step - loss: 0.3246 - accuracy: 0.8687 - val_loss: 0.3546 - val_accuracy: 0.8512\n",
            "Epoch 60/100\n",
            "536/536 [==============================] - 2s 3ms/step - loss: 0.3130 - accuracy: 0.8749 - val_loss: 0.3535 - val_accuracy: 0.8519\n",
            "Epoch 61/100\n",
            "536/536 [==============================] - 2s 3ms/step - loss: 0.3176 - accuracy: 0.8716 - val_loss: 0.3557 - val_accuracy: 0.8516\n",
            "Epoch 62/100\n",
            "536/536 [==============================] - 2s 3ms/step - loss: 0.3427 - accuracy: 0.8604 - val_loss: 0.3544 - val_accuracy: 0.8535\n",
            "Epoch 63/100\n",
            "536/536 [==============================] - 2s 3ms/step - loss: 0.3260 - accuracy: 0.8660 - val_loss: 0.3550 - val_accuracy: 0.8546\n",
            "Epoch 64/100\n",
            "536/536 [==============================] - 2s 3ms/step - loss: 0.3293 - accuracy: 0.8669 - val_loss: 0.3539 - val_accuracy: 0.8512\n",
            "Epoch 65/100\n",
            "536/536 [==============================] - 2s 3ms/step - loss: 0.3254 - accuracy: 0.8611 - val_loss: 0.3535 - val_accuracy: 0.8527\n",
            "Epoch 66/100\n",
            "536/536 [==============================] - 2s 3ms/step - loss: 0.3160 - accuracy: 0.8685 - val_loss: 0.3534 - val_accuracy: 0.8535\n",
            "Epoch 67/100\n",
            "536/536 [==============================] - 2s 3ms/step - loss: 0.3256 - accuracy: 0.8653 - val_loss: 0.3542 - val_accuracy: 0.8542\n",
            "Epoch 68/100\n",
            "536/536 [==============================] - 2s 3ms/step - loss: 0.3157 - accuracy: 0.8668 - val_loss: 0.3546 - val_accuracy: 0.8523\n",
            "Epoch 69/100\n",
            "536/536 [==============================] - 2s 3ms/step - loss: 0.3186 - accuracy: 0.8655 - val_loss: 0.3541 - val_accuracy: 0.8535\n",
            "Epoch 70/100\n",
            "536/536 [==============================] - 2s 3ms/step - loss: 0.3107 - accuracy: 0.8691 - val_loss: 0.3541 - val_accuracy: 0.8516\n",
            "Epoch 71/100\n",
            "536/536 [==============================] - 2s 3ms/step - loss: 0.3178 - accuracy: 0.8674 - val_loss: 0.3528 - val_accuracy: 0.8535\n",
            "Epoch 72/100\n",
            "536/536 [==============================] - 2s 3ms/step - loss: 0.3154 - accuracy: 0.8728 - val_loss: 0.3527 - val_accuracy: 0.8512\n",
            "Epoch 73/100\n",
            "536/536 [==============================] - 2s 3ms/step - loss: 0.3094 - accuracy: 0.8719 - val_loss: 0.3560 - val_accuracy: 0.8512\n",
            "Epoch 74/100\n",
            "536/536 [==============================] - 2s 3ms/step - loss: 0.3223 - accuracy: 0.8649 - val_loss: 0.3529 - val_accuracy: 0.8523\n",
            "Epoch 75/100\n",
            "536/536 [==============================] - 2s 3ms/step - loss: 0.3250 - accuracy: 0.8642 - val_loss: 0.3544 - val_accuracy: 0.8561\n",
            "Epoch 76/100\n",
            "536/536 [==============================] - 2s 3ms/step - loss: 0.3216 - accuracy: 0.8728 - val_loss: 0.3529 - val_accuracy: 0.8531\n",
            "Epoch 77/100\n",
            "536/536 [==============================] - 2s 3ms/step - loss: 0.3115 - accuracy: 0.8750 - val_loss: 0.3563 - val_accuracy: 0.8527\n",
            "Epoch 78/100\n",
            "536/536 [==============================] - 2s 3ms/step - loss: 0.3137 - accuracy: 0.8729 - val_loss: 0.3540 - val_accuracy: 0.8546\n",
            "Epoch 79/100\n",
            "536/536 [==============================] - 2s 3ms/step - loss: 0.3166 - accuracy: 0.8730 - val_loss: 0.3533 - val_accuracy: 0.8535\n",
            "Epoch 80/100\n",
            "536/536 [==============================] - 2s 3ms/step - loss: 0.3218 - accuracy: 0.8660 - val_loss: 0.3533 - val_accuracy: 0.8538\n",
            "Epoch 81/100\n",
            "536/536 [==============================] - 2s 3ms/step - loss: 0.3206 - accuracy: 0.8692 - val_loss: 0.3520 - val_accuracy: 0.8554\n",
            "Epoch 82/100\n",
            "536/536 [==============================] - 2s 3ms/step - loss: 0.3136 - accuracy: 0.8727 - val_loss: 0.3543 - val_accuracy: 0.8554\n",
            "Epoch 83/100\n",
            "536/536 [==============================] - 2s 3ms/step - loss: 0.3257 - accuracy: 0.8642 - val_loss: 0.3527 - val_accuracy: 0.8527\n",
            "Epoch 84/100\n",
            "536/536 [==============================] - 2s 3ms/step - loss: 0.3267 - accuracy: 0.8623 - val_loss: 0.3542 - val_accuracy: 0.8523\n",
            "Epoch 85/100\n",
            "536/536 [==============================] - 2s 3ms/step - loss: 0.3216 - accuracy: 0.8651 - val_loss: 0.3538 - val_accuracy: 0.8554\n",
            "Epoch 86/100\n",
            "536/536 [==============================] - 2s 3ms/step - loss: 0.3079 - accuracy: 0.8749 - val_loss: 0.3532 - val_accuracy: 0.8538\n",
            "Epoch 87/100\n",
            "536/536 [==============================] - 2s 3ms/step - loss: 0.3219 - accuracy: 0.8682 - val_loss: 0.3545 - val_accuracy: 0.8512\n",
            "Epoch 88/100\n",
            "536/536 [==============================] - 2s 3ms/step - loss: 0.3242 - accuracy: 0.8675 - val_loss: 0.3537 - val_accuracy: 0.8519\n",
            "Epoch 89/100\n",
            "536/536 [==============================] - 2s 3ms/step - loss: 0.3222 - accuracy: 0.8693 - val_loss: 0.3524 - val_accuracy: 0.8523\n",
            "Epoch 90/100\n",
            "536/536 [==============================] - 2s 3ms/step - loss: 0.3240 - accuracy: 0.8649 - val_loss: 0.3534 - val_accuracy: 0.8546\n",
            "Epoch 91/100\n",
            "536/536 [==============================] - 2s 3ms/step - loss: 0.3094 - accuracy: 0.8745 - val_loss: 0.3525 - val_accuracy: 0.8523\n",
            "Epoch 92/100\n",
            "536/536 [==============================] - 2s 3ms/step - loss: 0.3254 - accuracy: 0.8673 - val_loss: 0.3531 - val_accuracy: 0.8546\n",
            "Epoch 93/100\n",
            "536/536 [==============================] - 2s 3ms/step - loss: 0.3201 - accuracy: 0.8685 - val_loss: 0.3523 - val_accuracy: 0.8557\n",
            "Epoch 94/100\n",
            "536/536 [==============================] - 2s 3ms/step - loss: 0.3285 - accuracy: 0.8644 - val_loss: 0.3540 - val_accuracy: 0.8538\n",
            "Epoch 95/100\n",
            "536/536 [==============================] - 2s 3ms/step - loss: 0.3319 - accuracy: 0.8622 - val_loss: 0.3540 - val_accuracy: 0.8523\n",
            "Epoch 96/100\n",
            "536/536 [==============================] - 2s 3ms/step - loss: 0.3263 - accuracy: 0.8667 - val_loss: 0.3533 - val_accuracy: 0.8550\n",
            "Epoch 97/100\n",
            "536/536 [==============================] - 2s 3ms/step - loss: 0.3292 - accuracy: 0.8603 - val_loss: 0.3527 - val_accuracy: 0.8508\n",
            "Epoch 98/100\n",
            "536/536 [==============================] - 2s 3ms/step - loss: 0.3261 - accuracy: 0.8661 - val_loss: 0.3529 - val_accuracy: 0.8554\n",
            "Epoch 99/100\n",
            "536/536 [==============================] - 2s 3ms/step - loss: 0.3307 - accuracy: 0.8609 - val_loss: 0.3524 - val_accuracy: 0.8546\n",
            "Epoch 100/100\n",
            "536/536 [==============================] - 2s 3ms/step - loss: 0.3106 - accuracy: 0.8784 - val_loss: 0.3525 - val_accuracy: 0.8561\n",
            "[[1540   67]\n",
            " [ 207  186]]\n",
            "0.863\n"
          ],
          "name": "stdout"
        }
      ]
    },
    {
      "cell_type": "code",
      "metadata": {
        "id": "DZouzxTOWV9E"
      },
      "source": [
        ""
      ],
      "execution_count": null,
      "outputs": []
    }
  ]
}